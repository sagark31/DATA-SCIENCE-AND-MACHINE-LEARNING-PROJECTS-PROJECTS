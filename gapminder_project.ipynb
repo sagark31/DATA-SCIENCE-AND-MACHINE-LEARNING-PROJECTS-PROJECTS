{
  "cells": [
    {
      "cell_type": "markdown",
      "metadata": {
        "id": "tuAyIx-NZw6e"
      },
      "source": [
        "## **Introduction**\n",
        "\n",
        "Gapminder dataset explains about GDP per capita as a measure of average income per person in a country. This dataset contain information about population, life expectancy, and gdp percapita from 1952 till 2007 for each country. In this project we are going use python to address certain questions.\n",
        "\n",
        "Variables used in this dataset is:\n",
        "\n",
        "**1: country** = Country \n",
        "\n",
        "**2: year** = Data collected year\n",
        "\n",
        "**3: population** = Population of each country\n",
        "\n",
        "**4: continent** = Continent where country is located\n",
        "\n",
        "**5: life_exp** = Life expectency at birth\n",
        "\n",
        "**6: gdp_cap** = GDP per capita"
      ]
    },
    {
      "cell_type": "markdown",
      "metadata": {
        "id": "XF3lJqPcdHB3"
      },
      "source": [
        "### **Dataset explanation**\n",
        "\n",
        "Before moving to any dataset, we must have to understand each variable properly. For example, in this dataset nearly all columns are self explanatory, but gdp_cap may be confusing. In this project, we have two different datasets containing information about Gapminder. Both datasets have common keys.  \n",
        "\n",
        "GDP stands for Gross Domestic Product. This measure National income / National Output and National expenditure.\n",
        "\n",
        "GDP per capita divides the GDP by the population.\n",
        "\n",
        "Rest of the columns are slef explanatory."
      ]
    },
    {
      "cell_type": "markdown",
      "metadata": {
        "id": "hfjlkJMgej97"
      },
      "source": [
        "### **Importing necessary libraries**"
      ]
    },
    {
      "cell_type": "code",
      "execution_count": null,
      "metadata": {
        "id": "cLs9Z3AJ2QJj"
      },
      "outputs": [],
      "source": [
        "import numpy as np\n",
        "import pandas as pd\n",
        "import seaborn as sns\n",
        "import matplotlib.pyplot as plt"
      ]
    },
    {
      "cell_type": "markdown",
      "metadata": {
        "id": "5sg8KOIdfChq"
      },
      "source": [
        "### **Reading gapminder files**\n",
        "\n",
        "Here we have two files. As both files contain information regarding questions we are going to address."
      ]
    },
    {
      "cell_type": "code",
      "execution_count": null,
      "metadata": {
        "id": "YD8BhFP7et9I"
      },
      "outputs": [],
      "source": [
        "Gapminder_dataset_1 = pd.read_excel(\"Gapminder_key_1.xlsx\") # Always give a good name to variable, here Gapminder_dataset_1\n",
        "Gapminder_dataset_2 = pd.read_excel(\"Gapminder_key_2.xlsx\") # Alwayd give a good name to variable, here Gapminder_dataset_2\n"
      ]
    },
    {
      "cell_type": "markdown",
      "metadata": {
        "id": "QE348KxYUGZX"
      },
      "source": [
        "We have to explore dataset first to find if there are any common keys between them. In the most scenarios these information will already be provided. "
      ]
    },
    {
      "cell_type": "code",
      "execution_count": null,
      "metadata": {
        "colab": {
          "base_uri": "https://localhost:8080/",
          "height": 206
        },
        "id": "UcOP7LQJfOl_",
        "outputId": "1bec0948-bf19-4c6c-e9be-bf0da4b8c3a1"
      },
      "outputs": [
        {
          "data": {
            "text/html": [
              "<div>\n",
              "<style scoped>\n",
              "    .dataframe tbody tr th:only-of-type {\n",
              "        vertical-align: middle;\n",
              "    }\n",
              "\n",
              "    .dataframe tbody tr th {\n",
              "        vertical-align: top;\n",
              "    }\n",
              "\n",
              "    .dataframe thead th {\n",
              "        text-align: right;\n",
              "    }\n",
              "</style>\n",
              "<table border=\"1\" class=\"dataframe\">\n",
              "  <thead>\n",
              "    <tr style=\"text-align: right;\">\n",
              "      <th></th>\n",
              "      <th>country</th>\n",
              "      <th>year</th>\n",
              "      <th>population</th>\n",
              "      <th>continent</th>\n",
              "    </tr>\n",
              "  </thead>\n",
              "  <tbody>\n",
              "    <tr>\n",
              "      <th>0</th>\n",
              "      <td>Afghanistan</td>\n",
              "      <td>1952</td>\n",
              "      <td>8425333</td>\n",
              "      <td>Asia</td>\n",
              "    </tr>\n",
              "    <tr>\n",
              "      <th>1</th>\n",
              "      <td>Afghanistan</td>\n",
              "      <td>1957</td>\n",
              "      <td>9240934</td>\n",
              "      <td>Asia</td>\n",
              "    </tr>\n",
              "    <tr>\n",
              "      <th>2</th>\n",
              "      <td>Afghanistan</td>\n",
              "      <td>1962</td>\n",
              "      <td>10267083</td>\n",
              "      <td>Asia</td>\n",
              "    </tr>\n",
              "    <tr>\n",
              "      <th>3</th>\n",
              "      <td>Afghanistan</td>\n",
              "      <td>1967</td>\n",
              "      <td>11537966</td>\n",
              "      <td>Asia</td>\n",
              "    </tr>\n",
              "    <tr>\n",
              "      <th>4</th>\n",
              "      <td>Afghanistan</td>\n",
              "      <td>1972</td>\n",
              "      <td>13079460</td>\n",
              "      <td>Asia</td>\n",
              "    </tr>\n",
              "  </tbody>\n",
              "</table>\n",
              "</div>"
            ],
            "text/plain": [
              "       country  year  population continent\n",
              "0  Afghanistan  1952     8425333      Asia\n",
              "1  Afghanistan  1957     9240934      Asia\n",
              "2  Afghanistan  1962    10267083      Asia\n",
              "3  Afghanistan  1967    11537966      Asia\n",
              "4  Afghanistan  1972    13079460      Asia"
            ]
          },
          "execution_count": 6,
          "metadata": {},
          "output_type": "execute_result"
        }
      ],
      "source": [
        "# Exploring first five rows of the dataset using head function\n",
        "Gapminder_dataset_1.head() "
      ]
    },
    {
      "cell_type": "code",
      "execution_count": null,
      "metadata": {
        "colab": {
          "base_uri": "https://localhost:8080/",
          "height": 206
        },
        "id": "vIOsGLapQdWi",
        "outputId": "2d70ddad-18f5-4401-ca1a-2645fa527c4d"
      },
      "outputs": [
        {
          "data": {
            "text/html": [
              "<div>\n",
              "<style scoped>\n",
              "    .dataframe tbody tr th:only-of-type {\n",
              "        vertical-align: middle;\n",
              "    }\n",
              "\n",
              "    .dataframe tbody tr th {\n",
              "        vertical-align: top;\n",
              "    }\n",
              "\n",
              "    .dataframe thead th {\n",
              "        text-align: right;\n",
              "    }\n",
              "</style>\n",
              "<table border=\"1\" class=\"dataframe\">\n",
              "  <thead>\n",
              "    <tr style=\"text-align: right;\">\n",
              "      <th></th>\n",
              "      <th>country</th>\n",
              "      <th>year</th>\n",
              "      <th>life_exp</th>\n",
              "      <th>gdp_cap</th>\n",
              "    </tr>\n",
              "  </thead>\n",
              "  <tbody>\n",
              "    <tr>\n",
              "      <th>0</th>\n",
              "      <td>Afghanistan</td>\n",
              "      <td>1952</td>\n",
              "      <td>28.801</td>\n",
              "      <td>779.445314</td>\n",
              "    </tr>\n",
              "    <tr>\n",
              "      <th>1</th>\n",
              "      <td>Afghanistan</td>\n",
              "      <td>1957</td>\n",
              "      <td>30.332</td>\n",
              "      <td>820.853030</td>\n",
              "    </tr>\n",
              "    <tr>\n",
              "      <th>2</th>\n",
              "      <td>Afghanistan</td>\n",
              "      <td>1962</td>\n",
              "      <td>31.997</td>\n",
              "      <td>853.100710</td>\n",
              "    </tr>\n",
              "    <tr>\n",
              "      <th>3</th>\n",
              "      <td>Afghanistan</td>\n",
              "      <td>1967</td>\n",
              "      <td>34.020</td>\n",
              "      <td>836.197138</td>\n",
              "    </tr>\n",
              "    <tr>\n",
              "      <th>4</th>\n",
              "      <td>Afghanistan</td>\n",
              "      <td>1972</td>\n",
              "      <td>36.088</td>\n",
              "      <td>739.981106</td>\n",
              "    </tr>\n",
              "  </tbody>\n",
              "</table>\n",
              "</div>"
            ],
            "text/plain": [
              "       country  year  life_exp     gdp_cap\n",
              "0  Afghanistan  1952    28.801  779.445314\n",
              "1  Afghanistan  1957    30.332  820.853030\n",
              "2  Afghanistan  1962    31.997  853.100710\n",
              "3  Afghanistan  1967    34.020  836.197138\n",
              "4  Afghanistan  1972    36.088  739.981106"
            ]
          },
          "execution_count": 7,
          "metadata": {},
          "output_type": "execute_result"
        }
      ],
      "source": [
        "# Exploring first five rows of the dataset using head function\n",
        "Gapminder_dataset_2.head() "
      ]
    },
    {
      "cell_type": "markdown",
      "metadata": {
        "id": "Gu8xUx0ZQ8zs"
      },
      "source": [
        "Country and year are common between both datasets. As Afghanistan has multiple years, we have to use both columns as keys. "
      ]
    },
    {
      "cell_type": "code",
      "execution_count": null,
      "metadata": {
        "colab": {
          "base_uri": "https://localhost:8080/"
        },
        "id": "6b3gfR85zbKq",
        "outputId": "525e7962-d845-4e5a-85ac-ab5782949276"
      },
      "outputs": [
        {
          "data": {
            "text/plain": [
              "(1704, 4)"
            ]
          },
          "execution_count": 8,
          "metadata": {},
          "output_type": "execute_result"
        }
      ],
      "source": [
        "Gapminder_dataset_1.shape "
      ]
    },
    {
      "cell_type": "code",
      "execution_count": null,
      "metadata": {
        "colab": {
          "base_uri": "https://localhost:8080/"
        },
        "id": "8R6FhoqTztTq",
        "outputId": "959b0620-de85-4832-83da-f9bdecdcad80"
      },
      "outputs": [
        {
          "data": {
            "text/plain": [
              "(1704, 4)"
            ]
          },
          "execution_count": 9,
          "metadata": {},
          "output_type": "execute_result"
        }
      ],
      "source": [
        "Gapminder_dataset_2.shape"
      ]
    },
    {
      "cell_type": "markdown",
      "metadata": {
        "id": "NfYyjZWrz0GK"
      },
      "source": [
        "Both dataset contain 1704 rows and 4 columns. "
      ]
    },
    {
      "cell_type": "code",
      "execution_count": null,
      "metadata": {
        "colab": {
          "base_uri": "https://localhost:8080/"
        },
        "id": "wzZJjKboyqnA",
        "outputId": "6495c4a6-ce49-4f4a-a6fe-4e76bfdda26f"
      },
      "outputs": [
        {
          "data": {
            "text/plain": [
              "(1704, 6)"
            ]
          },
          "execution_count": 10,
          "metadata": {},
          "output_type": "execute_result"
        }
      ],
      "source": [
        "# We are using outer function from pd.merge to join both tables, as we need all information. \n",
        "# outer function uses union of keys from both frames.\n",
        "\n",
        "Gapminder = pd.merge(Gapminder_dataset_1, Gapminder_dataset_2, how='outer', on= ['country', 'year'])\n",
        "Gapminder.shape # examining the shape of data as we expect 1704 rows and 6 columns"
      ]
    },
    {
      "cell_type": "markdown",
      "metadata": {
        "id": "swC9rFdV3NaU"
      },
      "source": [
        "Now we have a total of 1704 rows and 6 columns."
      ]
    },
    {
      "cell_type": "code",
      "execution_count": null,
      "metadata": {
        "colab": {
          "base_uri": "https://localhost:8080/",
          "height": 363
        },
        "id": "sOcOH0ErftdJ",
        "outputId": "91741acb-1747-404d-9a0e-ff3c43fe87aa"
      },
      "outputs": [
        {
          "data": {
            "text/html": [
              "<div>\n",
              "<style scoped>\n",
              "    .dataframe tbody tr th:only-of-type {\n",
              "        vertical-align: middle;\n",
              "    }\n",
              "\n",
              "    .dataframe tbody tr th {\n",
              "        vertical-align: top;\n",
              "    }\n",
              "\n",
              "    .dataframe thead th {\n",
              "        text-align: right;\n",
              "    }\n",
              "</style>\n",
              "<table border=\"1\" class=\"dataframe\">\n",
              "  <thead>\n",
              "    <tr style=\"text-align: right;\">\n",
              "      <th></th>\n",
              "      <th>country</th>\n",
              "      <th>year</th>\n",
              "      <th>population</th>\n",
              "      <th>continent</th>\n",
              "      <th>life_exp</th>\n",
              "      <th>gdp_cap</th>\n",
              "    </tr>\n",
              "  </thead>\n",
              "  <tbody>\n",
              "    <tr>\n",
              "      <th>0</th>\n",
              "      <td>Afghanistan</td>\n",
              "      <td>1952</td>\n",
              "      <td>8425333</td>\n",
              "      <td>Asia</td>\n",
              "      <td>28.801</td>\n",
              "      <td>779.445314</td>\n",
              "    </tr>\n",
              "    <tr>\n",
              "      <th>1</th>\n",
              "      <td>Afghanistan</td>\n",
              "      <td>1957</td>\n",
              "      <td>9240934</td>\n",
              "      <td>Asia</td>\n",
              "      <td>30.332</td>\n",
              "      <td>820.853030</td>\n",
              "    </tr>\n",
              "    <tr>\n",
              "      <th>2</th>\n",
              "      <td>Afghanistan</td>\n",
              "      <td>1962</td>\n",
              "      <td>10267083</td>\n",
              "      <td>Asia</td>\n",
              "      <td>31.997</td>\n",
              "      <td>853.100710</td>\n",
              "    </tr>\n",
              "    <tr>\n",
              "      <th>3</th>\n",
              "      <td>Afghanistan</td>\n",
              "      <td>1967</td>\n",
              "      <td>11537966</td>\n",
              "      <td>Asia</td>\n",
              "      <td>34.020</td>\n",
              "      <td>836.197138</td>\n",
              "    </tr>\n",
              "    <tr>\n",
              "      <th>4</th>\n",
              "      <td>Afghanistan</td>\n",
              "      <td>1972</td>\n",
              "      <td>13079460</td>\n",
              "      <td>Asia</td>\n",
              "      <td>36.088</td>\n",
              "      <td>739.981106</td>\n",
              "    </tr>\n",
              "    <tr>\n",
              "      <th>5</th>\n",
              "      <td>Afghanistan</td>\n",
              "      <td>1977</td>\n",
              "      <td>14880372</td>\n",
              "      <td>Asia</td>\n",
              "      <td>38.438</td>\n",
              "      <td>786.113360</td>\n",
              "    </tr>\n",
              "    <tr>\n",
              "      <th>6</th>\n",
              "      <td>Afghanistan</td>\n",
              "      <td>1982</td>\n",
              "      <td>12881816</td>\n",
              "      <td>Asia</td>\n",
              "      <td>39.854</td>\n",
              "      <td>978.011439</td>\n",
              "    </tr>\n",
              "    <tr>\n",
              "      <th>7</th>\n",
              "      <td>Afghanistan</td>\n",
              "      <td>1987</td>\n",
              "      <td>13867957</td>\n",
              "      <td>Asia</td>\n",
              "      <td>40.822</td>\n",
              "      <td>852.395945</td>\n",
              "    </tr>\n",
              "    <tr>\n",
              "      <th>8</th>\n",
              "      <td>Afghanistan</td>\n",
              "      <td>1992</td>\n",
              "      <td>16317921</td>\n",
              "      <td>Asia</td>\n",
              "      <td>41.674</td>\n",
              "      <td>649.341395</td>\n",
              "    </tr>\n",
              "    <tr>\n",
              "      <th>9</th>\n",
              "      <td>Afghanistan</td>\n",
              "      <td>1997</td>\n",
              "      <td>22227415</td>\n",
              "      <td>Asia</td>\n",
              "      <td>41.763</td>\n",
              "      <td>635.341351</td>\n",
              "    </tr>\n",
              "  </tbody>\n",
              "</table>\n",
              "</div>"
            ],
            "text/plain": [
              "       country  year  population continent  life_exp     gdp_cap\n",
              "0  Afghanistan  1952     8425333      Asia    28.801  779.445314\n",
              "1  Afghanistan  1957     9240934      Asia    30.332  820.853030\n",
              "2  Afghanistan  1962    10267083      Asia    31.997  853.100710\n",
              "3  Afghanistan  1967    11537966      Asia    34.020  836.197138\n",
              "4  Afghanistan  1972    13079460      Asia    36.088  739.981106\n",
              "5  Afghanistan  1977    14880372      Asia    38.438  786.113360\n",
              "6  Afghanistan  1982    12881816      Asia    39.854  978.011439\n",
              "7  Afghanistan  1987    13867957      Asia    40.822  852.395945\n",
              "8  Afghanistan  1992    16317921      Asia    41.674  649.341395\n",
              "9  Afghanistan  1997    22227415      Asia    41.763  635.341351"
            ]
          },
          "execution_count": 11,
          "metadata": {},
          "output_type": "execute_result"
        }
      ],
      "source": [
        "# Exploring dataset again using head function.\n",
        "Gapminder.head(10) "
      ]
    },
    {
      "cell_type": "code",
      "execution_count": null,
      "metadata": {
        "colab": {
          "base_uri": "https://localhost:8080/",
          "height": 363
        },
        "id": "BxIKrnCb4JCP",
        "outputId": "7d66fd8f-d172-4610-b331-83434a109180"
      },
      "outputs": [
        {
          "data": {
            "text/html": [
              "<div>\n",
              "<style scoped>\n",
              "    .dataframe tbody tr th:only-of-type {\n",
              "        vertical-align: middle;\n",
              "    }\n",
              "\n",
              "    .dataframe tbody tr th {\n",
              "        vertical-align: top;\n",
              "    }\n",
              "\n",
              "    .dataframe thead th {\n",
              "        text-align: right;\n",
              "    }\n",
              "</style>\n",
              "<table border=\"1\" class=\"dataframe\">\n",
              "  <thead>\n",
              "    <tr style=\"text-align: right;\">\n",
              "      <th></th>\n",
              "      <th>country</th>\n",
              "      <th>year</th>\n",
              "      <th>population</th>\n",
              "      <th>continent</th>\n",
              "      <th>life_exp</th>\n",
              "      <th>gdp_cap</th>\n",
              "    </tr>\n",
              "  </thead>\n",
              "  <tbody>\n",
              "    <tr>\n",
              "      <th>1694</th>\n",
              "      <td>Zimbabwe</td>\n",
              "      <td>1962</td>\n",
              "      <td>4277736</td>\n",
              "      <td>Africa</td>\n",
              "      <td>52.358</td>\n",
              "      <td>527.272182</td>\n",
              "    </tr>\n",
              "    <tr>\n",
              "      <th>1695</th>\n",
              "      <td>Zimbabwe</td>\n",
              "      <td>1967</td>\n",
              "      <td>4995432</td>\n",
              "      <td>Africa</td>\n",
              "      <td>53.995</td>\n",
              "      <td>569.795071</td>\n",
              "    </tr>\n",
              "    <tr>\n",
              "      <th>1696</th>\n",
              "      <td>Zimbabwe</td>\n",
              "      <td>1972</td>\n",
              "      <td>5861135</td>\n",
              "      <td>Africa</td>\n",
              "      <td>55.635</td>\n",
              "      <td>799.362176</td>\n",
              "    </tr>\n",
              "    <tr>\n",
              "      <th>1697</th>\n",
              "      <td>Zimbabwe</td>\n",
              "      <td>1977</td>\n",
              "      <td>6642107</td>\n",
              "      <td>Africa</td>\n",
              "      <td>57.674</td>\n",
              "      <td>685.587682</td>\n",
              "    </tr>\n",
              "    <tr>\n",
              "      <th>1698</th>\n",
              "      <td>Zimbabwe</td>\n",
              "      <td>1982</td>\n",
              "      <td>7636524</td>\n",
              "      <td>Africa</td>\n",
              "      <td>60.363</td>\n",
              "      <td>788.855041</td>\n",
              "    </tr>\n",
              "    <tr>\n",
              "      <th>1699</th>\n",
              "      <td>Zimbabwe</td>\n",
              "      <td>1987</td>\n",
              "      <td>9216418</td>\n",
              "      <td>Africa</td>\n",
              "      <td>62.351</td>\n",
              "      <td>706.157306</td>\n",
              "    </tr>\n",
              "    <tr>\n",
              "      <th>1700</th>\n",
              "      <td>Zimbabwe</td>\n",
              "      <td>1992</td>\n",
              "      <td>10704340</td>\n",
              "      <td>Africa</td>\n",
              "      <td>60.377</td>\n",
              "      <td>693.420786</td>\n",
              "    </tr>\n",
              "    <tr>\n",
              "      <th>1701</th>\n",
              "      <td>Zimbabwe</td>\n",
              "      <td>1997</td>\n",
              "      <td>11404948</td>\n",
              "      <td>Africa</td>\n",
              "      <td>46.809</td>\n",
              "      <td>792.449960</td>\n",
              "    </tr>\n",
              "    <tr>\n",
              "      <th>1702</th>\n",
              "      <td>Zimbabwe</td>\n",
              "      <td>2002</td>\n",
              "      <td>11926563</td>\n",
              "      <td>Africa</td>\n",
              "      <td>39.989</td>\n",
              "      <td>672.038623</td>\n",
              "    </tr>\n",
              "    <tr>\n",
              "      <th>1703</th>\n",
              "      <td>Zimbabwe</td>\n",
              "      <td>2007</td>\n",
              "      <td>12311143</td>\n",
              "      <td>Africa</td>\n",
              "      <td>43.487</td>\n",
              "      <td>469.709298</td>\n",
              "    </tr>\n",
              "  </tbody>\n",
              "</table>\n",
              "</div>"
            ],
            "text/plain": [
              "       country  year  population continent  life_exp     gdp_cap\n",
              "1694  Zimbabwe  1962     4277736    Africa    52.358  527.272182\n",
              "1695  Zimbabwe  1967     4995432    Africa    53.995  569.795071\n",
              "1696  Zimbabwe  1972     5861135    Africa    55.635  799.362176\n",
              "1697  Zimbabwe  1977     6642107    Africa    57.674  685.587682\n",
              "1698  Zimbabwe  1982     7636524    Africa    60.363  788.855041\n",
              "1699  Zimbabwe  1987     9216418    Africa    62.351  706.157306\n",
              "1700  Zimbabwe  1992    10704340    Africa    60.377  693.420786\n",
              "1701  Zimbabwe  1997    11404948    Africa    46.809  792.449960\n",
              "1702  Zimbabwe  2002    11926563    Africa    39.989  672.038623\n",
              "1703  Zimbabwe  2007    12311143    Africa    43.487  469.709298"
            ]
          },
          "execution_count": 12,
          "metadata": {},
          "output_type": "execute_result"
        }
      ],
      "source": [
        "# Exploring dataset again using tail function.\n",
        "Gapminder.tail(10) "
      ]
    },
    {
      "cell_type": "code",
      "execution_count": null,
      "metadata": {
        "colab": {
          "base_uri": "https://localhost:8080/",
          "height": 300
        },
        "id": "qc55NCTt4egv",
        "outputId": "5b96bf19-665b-4f07-a350-190a8787f48d"
      },
      "outputs": [
        {
          "data": {
            "text/html": [
              "<div>\n",
              "<style scoped>\n",
              "    .dataframe tbody tr th:only-of-type {\n",
              "        vertical-align: middle;\n",
              "    }\n",
              "\n",
              "    .dataframe tbody tr th {\n",
              "        vertical-align: top;\n",
              "    }\n",
              "\n",
              "    .dataframe thead th {\n",
              "        text-align: right;\n",
              "    }\n",
              "</style>\n",
              "<table border=\"1\" class=\"dataframe\">\n",
              "  <thead>\n",
              "    <tr style=\"text-align: right;\">\n",
              "      <th></th>\n",
              "      <th>year</th>\n",
              "      <th>population</th>\n",
              "      <th>life_exp</th>\n",
              "      <th>gdp_cap</th>\n",
              "    </tr>\n",
              "  </thead>\n",
              "  <tbody>\n",
              "    <tr>\n",
              "      <th>count</th>\n",
              "      <td>1704.00000</td>\n",
              "      <td>1.704000e+03</td>\n",
              "      <td>1704.000000</td>\n",
              "      <td>1704.000000</td>\n",
              "    </tr>\n",
              "    <tr>\n",
              "      <th>mean</th>\n",
              "      <td>1979.50000</td>\n",
              "      <td>2.960121e+07</td>\n",
              "      <td>59.474439</td>\n",
              "      <td>7215.327081</td>\n",
              "    </tr>\n",
              "    <tr>\n",
              "      <th>std</th>\n",
              "      <td>17.26533</td>\n",
              "      <td>1.061579e+08</td>\n",
              "      <td>12.917107</td>\n",
              "      <td>9857.454543</td>\n",
              "    </tr>\n",
              "    <tr>\n",
              "      <th>min</th>\n",
              "      <td>1952.00000</td>\n",
              "      <td>6.001100e+04</td>\n",
              "      <td>23.599000</td>\n",
              "      <td>241.165876</td>\n",
              "    </tr>\n",
              "    <tr>\n",
              "      <th>25%</th>\n",
              "      <td>1965.75000</td>\n",
              "      <td>2.793664e+06</td>\n",
              "      <td>48.198000</td>\n",
              "      <td>1202.060309</td>\n",
              "    </tr>\n",
              "    <tr>\n",
              "      <th>50%</th>\n",
              "      <td>1979.50000</td>\n",
              "      <td>7.023596e+06</td>\n",
              "      <td>60.712500</td>\n",
              "      <td>3531.846988</td>\n",
              "    </tr>\n",
              "    <tr>\n",
              "      <th>75%</th>\n",
              "      <td>1993.25000</td>\n",
              "      <td>1.958522e+07</td>\n",
              "      <td>70.845500</td>\n",
              "      <td>9325.462346</td>\n",
              "    </tr>\n",
              "    <tr>\n",
              "      <th>max</th>\n",
              "      <td>2007.00000</td>\n",
              "      <td>1.318683e+09</td>\n",
              "      <td>82.603000</td>\n",
              "      <td>113523.132900</td>\n",
              "    </tr>\n",
              "  </tbody>\n",
              "</table>\n",
              "</div>"
            ],
            "text/plain": [
              "             year    population     life_exp        gdp_cap\n",
              "count  1704.00000  1.704000e+03  1704.000000    1704.000000\n",
              "mean   1979.50000  2.960121e+07    59.474439    7215.327081\n",
              "std      17.26533  1.061579e+08    12.917107    9857.454543\n",
              "min    1952.00000  6.001100e+04    23.599000     241.165876\n",
              "25%    1965.75000  2.793664e+06    48.198000    1202.060309\n",
              "50%    1979.50000  7.023596e+06    60.712500    3531.846988\n",
              "75%    1993.25000  1.958522e+07    70.845500    9325.462346\n",
              "max    2007.00000  1.318683e+09    82.603000  113523.132900"
            ]
          },
          "execution_count": 13,
          "metadata": {},
          "output_type": "execute_result"
        }
      ],
      "source": [
        "# To examine the summary of continuous data\n",
        "Gapminder.describe()"
      ]
    },
    {
      "cell_type": "markdown",
      "metadata": {
        "id": "1io--iZLjfwb"
      },
      "source": [
        "##### **Do you think describe function is appropriate here? If yes why if no why not?**"
      ]
    },
    {
      "cell_type": "markdown",
      "metadata": {
        "id": "2Zlp-BK-k4XK"
      },
      "source": [
        "describe function is not appropriate here right now as we have information for each country from 1952 - 2007. Hence, mean, std, min does not make sense.\n",
        "\n",
        "We will only be able to use this function appropriately when we will group our dataset by year."
      ]
    },
    {
      "cell_type": "code",
      "execution_count": null,
      "metadata": {
        "colab": {
          "base_uri": "https://localhost:8080/"
        },
        "id": "H-cFOYYFjeg-",
        "outputId": "adc882cf-0786-4f37-f2ff-cdb849e4f05f"
      },
      "outputs": [
        {
          "name": "stdout",
          "output_type": "stream",
          "text": [
            "<class 'pandas.core.frame.DataFrame'>\n",
            "Int64Index: 1704 entries, 0 to 1703\n",
            "Data columns (total 6 columns):\n",
            " #   Column      Non-Null Count  Dtype  \n",
            "---  ------      --------------  -----  \n",
            " 0   country     1704 non-null   object \n",
            " 1   year        1704 non-null   int64  \n",
            " 2   population  1704 non-null   int64  \n",
            " 3   continent   1704 non-null   object \n",
            " 4   life_exp    1704 non-null   float64\n",
            " 5   gdp_cap     1704 non-null   float64\n",
            "dtypes: float64(2), int64(2), object(2)\n",
            "memory usage: 93.2+ KB\n"
          ]
        }
      ],
      "source": [
        "# Check datatypes of each column and be sure that python is reading each variable perfectly.\n",
        "Gapminder.info()"
      ]
    },
    {
      "cell_type": "markdown",
      "metadata": {
        "id": "6ec2B4Fe7lFv"
      },
      "source": [
        "## **Q1: Country and continent are string data type. Please convert them into categorical data type using programming constructs.** "
      ]
    },
    {
      "cell_type": "code",
      "execution_count": null,
      "metadata": {
        "colab": {
          "base_uri": "https://localhost:8080/"
        },
        "id": "WBhgOy7Pls1L",
        "outputId": "2a287dd1-8972-4971-b768-b92c2302e47c"
      },
      "outputs": [
        {
          "name": "stdout",
          "output_type": "stream",
          "text": [
            "<class 'pandas.core.frame.DataFrame'>\n",
            "Int64Index: 1704 entries, 0 to 1703\n",
            "Data columns (total 6 columns):\n",
            " #   Column      Non-Null Count  Dtype   \n",
            "---  ------      --------------  -----   \n",
            " 0   country     1704 non-null   category\n",
            " 1   year        1704 non-null   int64   \n",
            " 2   population  1704 non-null   int64   \n",
            " 3   continent   1704 non-null   category\n",
            " 4   life_exp    1704 non-null   float64 \n",
            " 5   gdp_cap     1704 non-null   float64 \n",
            "dtypes: category(2), float64(2), int64(2)\n",
            "memory usage: 76.9 KB\n"
          ]
        }
      ],
      "source": [
        "for col in ['country', 'continent']:\n",
        "    Gapminder[col] = Gapminder[col].astype('category')\n",
        "    \n",
        "Gapminder.info()"
      ]
    },
    {
      "cell_type": "markdown",
      "metadata": {
        "id": "vM7mzQfk8jrP"
      },
      "source": [
        "## **Q2: Count the number of countries in this dataset.**"
      ]
    },
    {
      "cell_type": "markdown",
      "metadata": {
        "id": "PwH8hwW-9cgd"
      },
      "source": [
        "Remember in this dataset each country is represented multiple times. Hence, just relying on info function may give wrong information. "
      ]
    },
    {
      "cell_type": "code",
      "execution_count": null,
      "metadata": {
        "colab": {
          "base_uri": "https://localhost:8080/"
        },
        "id": "6tHnUhIr8JtB",
        "outputId": "0ff03f68-8ec8-4fcb-b7f1-7015638108f9"
      },
      "outputs": [
        {
          "data": {
            "text/plain": [
              "(142,)"
            ]
          },
          "execution_count": 16,
          "metadata": {},
          "output_type": "execute_result"
        }
      ],
      "source": [
        "Number_countries = Gapminder['country'].drop_duplicates()\n",
        "Number_countries.shape"
      ]
    },
    {
      "cell_type": "markdown",
      "metadata": {
        "id": "12Wo8TOi-sZm"
      },
      "source": [
        "There are 142 countries in this dataset."
      ]
    },
    {
      "cell_type": "markdown",
      "metadata": {
        "id": "osvfEb3n-xf0"
      },
      "source": [
        "## **Q3: Which country had the lowest life expectancy in 2007?**"
      ]
    },
    {
      "cell_type": "code",
      "execution_count": null,
      "metadata": {
        "colab": {
          "base_uri": "https://localhost:8080/",
          "height": 81
        },
        "id": "MwPkiAzK-jYa",
        "outputId": "07710688-9775-4c24-aefc-4b9199a0b00d"
      },
      "outputs": [
        {
          "data": {
            "text/html": [
              "<div>\n",
              "<style scoped>\n",
              "    .dataframe tbody tr th:only-of-type {\n",
              "        vertical-align: middle;\n",
              "    }\n",
              "\n",
              "    .dataframe tbody tr th {\n",
              "        vertical-align: top;\n",
              "    }\n",
              "\n",
              "    .dataframe thead th {\n",
              "        text-align: right;\n",
              "    }\n",
              "</style>\n",
              "<table border=\"1\" class=\"dataframe\">\n",
              "  <thead>\n",
              "    <tr style=\"text-align: right;\">\n",
              "      <th></th>\n",
              "      <th>country</th>\n",
              "      <th>year</th>\n",
              "      <th>population</th>\n",
              "      <th>continent</th>\n",
              "      <th>life_exp</th>\n",
              "      <th>gdp_cap</th>\n",
              "    </tr>\n",
              "  </thead>\n",
              "  <tbody>\n",
              "    <tr>\n",
              "      <th>1463</th>\n",
              "      <td>Swaziland</td>\n",
              "      <td>2007</td>\n",
              "      <td>1133066</td>\n",
              "      <td>Africa</td>\n",
              "      <td>39.613</td>\n",
              "      <td>4513.480643</td>\n",
              "    </tr>\n",
              "  </tbody>\n",
              "</table>\n",
              "</div>"
            ],
            "text/plain": [
              "        country  year  population continent  life_exp      gdp_cap\n",
              "1463  Swaziland  2007     1133066    Africa    39.613  4513.480643"
            ]
          },
          "execution_count": 17,
          "metadata": {},
          "output_type": "execute_result"
        }
      ],
      "source": [
        "Gapminder_2007 = Gapminder[Gapminder[\"year\"] == 2007]\n",
        "Gapminder_2007[Gapminder_2007.life_exp == Gapminder_2007.life_exp.min()]"
      ]
    },
    {
      "cell_type": "markdown",
      "metadata": {
        "id": "DQNKDPDaWJxN"
      },
      "source": [
        "Swaziland had the lowest life expectency (39.613) in 2007."
      ]
    },
    {
      "cell_type": "markdown",
      "metadata": {
        "id": "QIjO1isaSj9l"
      },
      "source": [
        "## **Q4: Which country had the highest GDP per capita in 2007?**"
      ]
    },
    {
      "cell_type": "code",
      "execution_count": null,
      "metadata": {
        "colab": {
          "base_uri": "https://localhost:8080/",
          "height": 81
        },
        "id": "f3073ZeWRnoa",
        "outputId": "27080b0c-b62d-47e5-f8e3-125bca390ee2"
      },
      "outputs": [
        {
          "data": {
            "text/html": [
              "<div>\n",
              "<style scoped>\n",
              "    .dataframe tbody tr th:only-of-type {\n",
              "        vertical-align: middle;\n",
              "    }\n",
              "\n",
              "    .dataframe tbody tr th {\n",
              "        vertical-align: top;\n",
              "    }\n",
              "\n",
              "    .dataframe thead th {\n",
              "        text-align: right;\n",
              "    }\n",
              "</style>\n",
              "<table border=\"1\" class=\"dataframe\">\n",
              "  <thead>\n",
              "    <tr style=\"text-align: right;\">\n",
              "      <th></th>\n",
              "      <th>country</th>\n",
              "      <th>year</th>\n",
              "      <th>population</th>\n",
              "      <th>continent</th>\n",
              "      <th>life_exp</th>\n",
              "      <th>gdp_cap</th>\n",
              "    </tr>\n",
              "  </thead>\n",
              "  <tbody>\n",
              "    <tr>\n",
              "      <th>1151</th>\n",
              "      <td>Norway</td>\n",
              "      <td>2007</td>\n",
              "      <td>4627926</td>\n",
              "      <td>Europe</td>\n",
              "      <td>80.196</td>\n",
              "      <td>49357.19017</td>\n",
              "    </tr>\n",
              "  </tbody>\n",
              "</table>\n",
              "</div>"
            ],
            "text/plain": [
              "     country  year  population continent  life_exp      gdp_cap\n",
              "1151  Norway  2007     4627926    Europe    80.196  49357.19017"
            ]
          },
          "execution_count": 18,
          "metadata": {},
          "output_type": "execute_result"
        }
      ],
      "source": [
        "Gapminder_2007[Gapminder_2007.gdp_cap == Gapminder_2007.gdp_cap.max()]"
      ]
    },
    {
      "cell_type": "markdown",
      "metadata": {
        "id": "J5_mRCXBWk8I"
      },
      "source": [
        "## **Q5: Which country had the highest GDP in 2007?**"
      ]
    },
    {
      "cell_type": "code",
      "execution_count": null,
      "metadata": {
        "colab": {
          "base_uri": "https://localhost:8080/"
        },
        "id": "O0ikhWNeWMK0",
        "outputId": "5ab51512-4d33-4881-d184-c7bfe50177e5"
      },
      "outputs": [
        {
          "name": "stderr",
          "output_type": "stream",
          "text": [
            "C:\\Users\\sandy\\AppData\\Local\\Temp/ipykernel_6692/3502341644.py:2: SettingWithCopyWarning: \n",
            "A value is trying to be set on a copy of a slice from a DataFrame.\n",
            "Try using .loc[row_indexer,col_indexer] = value instead\n",
            "\n",
            "See the caveats in the documentation: https://pandas.pydata.org/pandas-docs/stable/user_guide/indexing.html#returning-a-view-versus-a-copy\n",
            "  Gapminder_2007['GDP'] = Gapminder_2007['gdp_cap'] * Gapminder_2007['population']\n"
          ]
        }
      ],
      "source": [
        "# Using apply function to create a new column GDP\n",
        "Gapminder_2007['GDP'] = Gapminder_2007['gdp_cap'] * Gapminder_2007['population']"
      ]
    },
    {
      "cell_type": "code",
      "execution_count": null,
      "metadata": {
        "colab": {
          "base_uri": "https://localhost:8080/",
          "height": 206
        },
        "id": "QWzoWQ79XSpt",
        "outputId": "7e4f0d56-15a0-412a-a600-9079574f4254"
      },
      "outputs": [
        {
          "data": {
            "text/html": [
              "<div>\n",
              "<style scoped>\n",
              "    .dataframe tbody tr th:only-of-type {\n",
              "        vertical-align: middle;\n",
              "    }\n",
              "\n",
              "    .dataframe tbody tr th {\n",
              "        vertical-align: top;\n",
              "    }\n",
              "\n",
              "    .dataframe thead th {\n",
              "        text-align: right;\n",
              "    }\n",
              "</style>\n",
              "<table border=\"1\" class=\"dataframe\">\n",
              "  <thead>\n",
              "    <tr style=\"text-align: right;\">\n",
              "      <th></th>\n",
              "      <th>country</th>\n",
              "      <th>year</th>\n",
              "      <th>population</th>\n",
              "      <th>continent</th>\n",
              "      <th>life_exp</th>\n",
              "      <th>gdp_cap</th>\n",
              "      <th>GDP</th>\n",
              "    </tr>\n",
              "  </thead>\n",
              "  <tbody>\n",
              "    <tr>\n",
              "      <th>11</th>\n",
              "      <td>Afghanistan</td>\n",
              "      <td>2007</td>\n",
              "      <td>31889923</td>\n",
              "      <td>Asia</td>\n",
              "      <td>43.828</td>\n",
              "      <td>974.580338</td>\n",
              "      <td>3.107929e+10</td>\n",
              "    </tr>\n",
              "    <tr>\n",
              "      <th>23</th>\n",
              "      <td>Albania</td>\n",
              "      <td>2007</td>\n",
              "      <td>3600523</td>\n",
              "      <td>Europe</td>\n",
              "      <td>76.423</td>\n",
              "      <td>5937.029526</td>\n",
              "      <td>2.137641e+10</td>\n",
              "    </tr>\n",
              "    <tr>\n",
              "      <th>35</th>\n",
              "      <td>Algeria</td>\n",
              "      <td>2007</td>\n",
              "      <td>33333216</td>\n",
              "      <td>Africa</td>\n",
              "      <td>72.301</td>\n",
              "      <td>6223.367465</td>\n",
              "      <td>2.074449e+11</td>\n",
              "    </tr>\n",
              "    <tr>\n",
              "      <th>47</th>\n",
              "      <td>Angola</td>\n",
              "      <td>2007</td>\n",
              "      <td>12420476</td>\n",
              "      <td>Africa</td>\n",
              "      <td>42.731</td>\n",
              "      <td>4797.231267</td>\n",
              "      <td>5.958390e+10</td>\n",
              "    </tr>\n",
              "    <tr>\n",
              "      <th>59</th>\n",
              "      <td>Argentina</td>\n",
              "      <td>2007</td>\n",
              "      <td>40301927</td>\n",
              "      <td>Americas</td>\n",
              "      <td>75.320</td>\n",
              "      <td>12779.379640</td>\n",
              "      <td>5.150336e+11</td>\n",
              "    </tr>\n",
              "  </tbody>\n",
              "</table>\n",
              "</div>"
            ],
            "text/plain": [
              "        country  year  population continent  life_exp       gdp_cap  \\\n",
              "11  Afghanistan  2007    31889923      Asia    43.828    974.580338   \n",
              "23      Albania  2007     3600523    Europe    76.423   5937.029526   \n",
              "35      Algeria  2007    33333216    Africa    72.301   6223.367465   \n",
              "47       Angola  2007    12420476    Africa    42.731   4797.231267   \n",
              "59    Argentina  2007    40301927  Americas    75.320  12779.379640   \n",
              "\n",
              "             GDP  \n",
              "11  3.107929e+10  \n",
              "23  2.137641e+10  \n",
              "35  2.074449e+11  \n",
              "47  5.958390e+10  \n",
              "59  5.150336e+11  "
            ]
          },
          "execution_count": 20,
          "metadata": {},
          "output_type": "execute_result"
        }
      ],
      "source": [
        "Gapminder_2007.head() # Exploring the Gapminder_2007 to see if GDP column is created or not."
      ]
    },
    {
      "cell_type": "code",
      "execution_count": null,
      "metadata": {
        "colab": {
          "base_uri": "https://localhost:8080/",
          "height": 81
        },
        "id": "UvrDsQAGZpWf",
        "outputId": "dd0b93f1-8dba-4e80-d131-69fd1bcd5006"
      },
      "outputs": [
        {
          "data": {
            "text/html": [
              "<div>\n",
              "<style scoped>\n",
              "    .dataframe tbody tr th:only-of-type {\n",
              "        vertical-align: middle;\n",
              "    }\n",
              "\n",
              "    .dataframe tbody tr th {\n",
              "        vertical-align: top;\n",
              "    }\n",
              "\n",
              "    .dataframe thead th {\n",
              "        text-align: right;\n",
              "    }\n",
              "</style>\n",
              "<table border=\"1\" class=\"dataframe\">\n",
              "  <thead>\n",
              "    <tr style=\"text-align: right;\">\n",
              "      <th></th>\n",
              "      <th>country</th>\n",
              "      <th>year</th>\n",
              "      <th>population</th>\n",
              "      <th>continent</th>\n",
              "      <th>life_exp</th>\n",
              "      <th>gdp_cap</th>\n",
              "      <th>GDP</th>\n",
              "    </tr>\n",
              "  </thead>\n",
              "  <tbody>\n",
              "    <tr>\n",
              "      <th>1619</th>\n",
              "      <td>United States</td>\n",
              "      <td>2007</td>\n",
              "      <td>301139947</td>\n",
              "      <td>Americas</td>\n",
              "      <td>78.242</td>\n",
              "      <td>42951.65309</td>\n",
              "      <td>1.293446e+13</td>\n",
              "    </tr>\n",
              "  </tbody>\n",
              "</table>\n",
              "</div>"
            ],
            "text/plain": [
              "            country  year  population continent  life_exp      gdp_cap  \\\n",
              "1619  United States  2007   301139947  Americas    78.242  42951.65309   \n",
              "\n",
              "               GDP  \n",
              "1619  1.293446e+13  "
            ]
          },
          "execution_count": 21,
          "metadata": {},
          "output_type": "execute_result"
        }
      ],
      "source": [
        "# Examining country having highest GDP.\n",
        "Gapminder_2007[Gapminder_2007.GDP == Gapminder_2007.GDP.max()]"
      ]
    },
    {
      "cell_type": "markdown",
      "metadata": {
        "id": "W-Mrth8raR0O"
      },
      "source": [
        "## **Q6: Is there any change in the trend from 1952 to 2007 in life expectancy?**"
      ]
    },
    {
      "cell_type": "code",
      "execution_count": null,
      "metadata": {
        "colab": {
          "base_uri": "https://localhost:8080/",
          "height": 296
        },
        "id": "6XlNdryzZ0dd",
        "outputId": "9eb9cfc6-0aa8-4bea-e34a-7bde70b4ee54"
      },
      "outputs": [
        {
          "data": {
            "text/plain": [
              "<AxesSubplot:xlabel='year', ylabel='life_exp'>"
            ]
          },
          "execution_count": 22,
          "metadata": {},
          "output_type": "execute_result"
        },
        {
          "data": {
            "image/png": "[encoded data removed]",
            "text/plain": [
              "<Figure size 432x288 with 1 Axes>"
            ]
          },
          "metadata": {},
          "output_type": "display_data"
        }
      ],
      "source": [
        "sns.set_style(\"whitegrid\")\n",
        "sns.boxplot(x = 'year', y = 'life_exp', data = Gapminder)"
      ]
    },
    {
      "cell_type": "markdown",
      "metadata": {
        "id": "6zZsyVL2bvAr"
      },
      "source": [
        "## **Q7: Which continent has the lowest life expectancy in 2007?**"
      ]
    },
    {
      "cell_type": "code",
      "execution_count": null,
      "metadata": {
        "colab": {
          "base_uri": "https://localhost:8080/",
          "height": 296
        },
        "id": "5GZiBBpMbY5s",
        "outputId": "bc2cd4c7-9684-499e-e66b-9a0f48a2af97",
        "scrolled": true
      },
      "outputs": [
        {
          "data": {
            "text/plain": [
              "<AxesSubplot:xlabel='continent', ylabel='life_exp'>"
            ]
          },
          "execution_count": 23,
          "metadata": {},
          "output_type": "execute_result"
        },
        {
          "data": {
            "image/png": "[encoded data removed]",
            "text/plain": [
              "<Figure size 432x288 with 1 Axes>"
            ]
          },
          "metadata": {},
          "output_type": "display_data"
        }
      ],
      "source": [
        "sns.set_style(\"whitegrid\")\n",
        "sns.boxplot(x = 'continent', y = 'life_exp', data = Gapminder)"
      ]
    },
    {
      "cell_type": "markdown",
      "metadata": {
        "id": "-t19MdckcJXQ"
      },
      "source": [
        "## **Q8: What was the average life expectancy, GDP and gdp per capita in 2007?**"
      ]
    },
    {
      "cell_type": "code",
      "execution_count": null,
      "metadata": {
        "colab": {
          "base_uri": "https://localhost:8080/",
          "height": 300
        },
        "id": "Zu2H-YHIb-LX",
        "outputId": "ce68006d-5927-48db-e45e-c482eed39aec"
      },
      "outputs": [
        {
          "data": {
            "text/html": [
              "<div>\n",
              "<style scoped>\n",
              "    .dataframe tbody tr th:only-of-type {\n",
              "        vertical-align: middle;\n",
              "    }\n",
              "\n",
              "    .dataframe tbody tr th {\n",
              "        vertical-align: top;\n",
              "    }\n",
              "\n",
              "    .dataframe thead th {\n",
              "        text-align: right;\n",
              "    }\n",
              "</style>\n",
              "<table border=\"1\" class=\"dataframe\">\n",
              "  <thead>\n",
              "    <tr style=\"text-align: right;\">\n",
              "      <th></th>\n",
              "      <th>year</th>\n",
              "      <th>population</th>\n",
              "      <th>life_exp</th>\n",
              "      <th>gdp_cap</th>\n",
              "      <th>GDP</th>\n",
              "    </tr>\n",
              "  </thead>\n",
              "  <tbody>\n",
              "    <tr>\n",
              "      <th>count</th>\n",
              "      <td>142.0</td>\n",
              "      <td>1.420000e+02</td>\n",
              "      <td>142.000000</td>\n",
              "      <td>142.000000</td>\n",
              "      <td>1.420000e+02</td>\n",
              "    </tr>\n",
              "    <tr>\n",
              "      <th>mean</th>\n",
              "      <td>2007.0</td>\n",
              "      <td>4.402122e+07</td>\n",
              "      <td>67.007423</td>\n",
              "      <td>11680.071820</td>\n",
              "      <td>4.092207e+11</td>\n",
              "    </tr>\n",
              "    <tr>\n",
              "      <th>std</th>\n",
              "      <td>0.0</td>\n",
              "      <td>1.476214e+08</td>\n",
              "      <td>12.073021</td>\n",
              "      <td>12859.937337</td>\n",
              "      <td>1.311852e+12</td>\n",
              "    </tr>\n",
              "    <tr>\n",
              "      <th>min</th>\n",
              "      <td>2007.0</td>\n",
              "      <td>1.995790e+05</td>\n",
              "      <td>39.613000</td>\n",
              "      <td>277.551859</td>\n",
              "      <td>3.190141e+08</td>\n",
              "    </tr>\n",
              "    <tr>\n",
              "      <th>25%</th>\n",
              "      <td>2007.0</td>\n",
              "      <td>4.508034e+06</td>\n",
              "      <td>57.160250</td>\n",
              "      <td>1624.842248</td>\n",
              "      <td>1.743849e+10</td>\n",
              "    </tr>\n",
              "    <tr>\n",
              "      <th>50%</th>\n",
              "      <td>2007.0</td>\n",
              "      <td>1.051753e+07</td>\n",
              "      <td>71.935500</td>\n",
              "      <td>6124.371108</td>\n",
              "      <td>5.786906e+10</td>\n",
              "    </tr>\n",
              "    <tr>\n",
              "      <th>75%</th>\n",
              "      <td>2007.0</td>\n",
              "      <td>3.121004e+07</td>\n",
              "      <td>76.413250</td>\n",
              "      <td>18008.835640</td>\n",
              "      <td>2.759600e+11</td>\n",
              "    </tr>\n",
              "    <tr>\n",
              "      <th>max</th>\n",
              "      <td>2007.0</td>\n",
              "      <td>1.318683e+09</td>\n",
              "      <td>82.603000</td>\n",
              "      <td>49357.190170</td>\n",
              "      <td>1.293446e+13</td>\n",
              "    </tr>\n",
              "  </tbody>\n",
              "</table>\n",
              "</div>"
            ],
            "text/plain": [
              "         year    population    life_exp       gdp_cap           GDP\n",
              "count   142.0  1.420000e+02  142.000000    142.000000  1.420000e+02\n",
              "mean   2007.0  4.402122e+07   67.007423  11680.071820  4.092207e+11\n",
              "std       0.0  1.476214e+08   12.073021  12859.937337  1.311852e+12\n",
              "min    2007.0  1.995790e+05   39.613000    277.551859  3.190141e+08\n",
              "25%    2007.0  4.508034e+06   57.160250   1624.842248  1.743849e+10\n",
              "50%    2007.0  1.051753e+07   71.935500   6124.371108  5.786906e+10\n",
              "75%    2007.0  3.121004e+07   76.413250  18008.835640  2.759600e+11\n",
              "max    2007.0  1.318683e+09   82.603000  49357.190170  1.293446e+13"
            ]
          },
          "execution_count": 24,
          "metadata": {},
          "output_type": "execute_result"
        }
      ],
      "source": [
        "Gapminder_2007.describe() # As there are multiple questions, I am using describe function."
      ]
    },
    {
      "cell_type": "markdown",
      "metadata": {
        "id": "q3utM4QZe8Hm"
      },
      "source": [
        "## **Q9: Is there any relationship between life expectancy and gdp per capita? Please show each data point by continent.**"
      ]
    },
    {
      "cell_type": "code",
      "execution_count": null,
      "metadata": {
        "colab": {
          "base_uri": "https://localhost:8080/",
          "height": 296
        },
        "id": "6fo12LLWcfv9",
        "outputId": "404d6181-1a3b-4b56-f643-663a1395a6b7"
      },
      "outputs": [
        {
          "data": {
            "text/plain": [
              "Text(0, 0.5, 'Life Expectancy [in years]')"
            ]
          },
          "execution_count": 25,
          "metadata": {},
          "output_type": "execute_result"
        },
        {
          "data": {
            "image/png": "[encoded data removed]",
            "text/plain": [
              "<Figure size 432x288 with 1 Axes>"
            ]
          },
          "metadata": {},
          "output_type": "display_data"
        }
      ],
      "source": [
        "sns.scatterplot(x=\"gdp_cap\",\n",
        "                    y=\"life_exp\",\n",
        "                    hue=\"continent\",\n",
        "                    data=Gapminder_2007)\n",
        "plt.xlabel('GDP per Capita [in USD]')\n",
        "plt.ylabel('Life Expectancy [in years]')"
      ]
    },
    {
      "cell_type": "markdown",
      "metadata": {
        "id": "dZTzGIy8fR_j"
      },
      "source": [
        "## **Q10: What can be done to see the relationship better between life expectancy and gdp percapita?**"
      ]
    },
    {
      "cell_type": "code",
      "execution_count": null,
      "metadata": {
        "colab": {
          "base_uri": "https://localhost:8080/",
          "height": 300
        },
        "id": "8b4OymQYcqoZ",
        "outputId": "24852031-2ccb-4004-d6e8-d8174fe96c74"
      },
      "outputs": [
        {
          "data": {
            "text/plain": [
              "Text(0, 0.5, 'Life Expectancy [in years]')"
            ]
          },
          "execution_count": 21,
          "metadata": {},
          "output_type": "execute_result"
        },
        {
          "data": {
            "image/png": "[encoded data removed]",
            "text/plain": [
              "<Figure size 432x288 with 1 Axes>"
            ]
          },
          "metadata": {},
          "output_type": "display_data"
        }
      ],
      "source": [
        "# We are converting gdp_cap column into log scale\n",
        "sns.scatterplot(x=\"gdp_cap\",\n",
        "                    y=\"life_exp\",\n",
        "                    data=Gapminder_2007)\n",
        "plt.xscale('log') # converting x scale into log\n",
        "plt.xlabel('GDP per Capita [in USD]')\n",
        "plt.ylabel('Life Expectancy [in years]')"
      ]
    },
    {
      "cell_type": "markdown",
      "metadata": {
        "id": "ixQFowAZZkC3"
      },
      "source": [
        "Adding more information make plot more meaningful."
      ]
    },
    {
      "cell_type": "code",
      "execution_count": null,
      "metadata": {
        "colab": {
          "base_uri": "https://localhost:8080/",
          "height": 486
        },
        "id": "LvGuUBbDgPcL",
        "outputId": "6e0d7462-b35c-43d2-821c-8318ac2c2d28"
      },
      "outputs": [
        {
          "data": {
            "image/png": "[encoded data removed]",
            "text/plain": [
              "<Figure size 720x480 with 1 Axes>"
            ]
          },
          "metadata": {},
          "output_type": "display_data"
        }
      ],
      "source": [
        "# Increase the graph size\n",
        "plt.figure(dpi=120)\n",
        "\n",
        "\n",
        "sns.scatterplot(data=Gapminder_2007, x=\"gdp_cap\", y=\"life_exp\", hue = \"continent\", size=\"population\", alpha=0.5, sizes=(20, 2000))\n",
        "plt.grid(True)\n",
        "plt.xscale('log')\n",
        "plt.xlabel('GDP per Capita', fontsize = 10)\n",
        "plt.ylabel('Life Expectancy', fontsize = 10)\n",
        "plt.title('World Development in 2007', fontsize = 15)\n",
        "plt.xticks([1000, 10000, 100000],['1k', '10k', '100k'])\n",
        "#Add description to the biggest countries\n",
        "plt.text(1550, 67, 'India')\n",
        "plt.text(5650, 75, 'China')\n",
        "plt.show()\n",
        "plt.show()"
      ]
    },
    {
      "cell_type": "markdown",
      "metadata": {
        "id": "K0QiUClma96o"
      },
      "source": [
        "## **Q11: What is the trend of life expectancy in India from 1952 - 2007?**"
      ]
    },
    {
      "cell_type": "code",
      "execution_count": null,
      "metadata": {
        "id": "EdhjmmlwgoSH"
      },
      "outputs": [],
      "source": [
        "# Subsetting India first\n",
        "Gapminder_India = Gapminder[Gapminder[\"country\"] == 'India']"
      ]
    },
    {
      "cell_type": "code",
      "execution_count": null,
      "metadata": {
        "colab": {
          "base_uri": "https://localhost:8080/",
          "height": 206
        },
        "id": "D1zj2LX2jnJz",
        "outputId": "2f19e081-28cb-423f-b7de-d8278231a2c4"
      },
      "outputs": [
        {
          "data": {
            "text/html": [
              "<div>\n",
              "<style scoped>\n",
              "    .dataframe tbody tr th:only-of-type {\n",
              "        vertical-align: middle;\n",
              "    }\n",
              "\n",
              "    .dataframe tbody tr th {\n",
              "        vertical-align: top;\n",
              "    }\n",
              "\n",
              "    .dataframe thead th {\n",
              "        text-align: right;\n",
              "    }\n",
              "</style>\n",
              "<table border=\"1\" class=\"dataframe\">\n",
              "  <thead>\n",
              "    <tr style=\"text-align: right;\">\n",
              "      <th></th>\n",
              "      <th>country</th>\n",
              "      <th>year</th>\n",
              "      <th>population</th>\n",
              "      <th>continent</th>\n",
              "      <th>life_exp</th>\n",
              "      <th>gdp_cap</th>\n",
              "    </tr>\n",
              "  </thead>\n",
              "  <tbody>\n",
              "    <tr>\n",
              "      <th>696</th>\n",
              "      <td>India</td>\n",
              "      <td>1952</td>\n",
              "      <td>372000000</td>\n",
              "      <td>Asia</td>\n",
              "      <td>37.373</td>\n",
              "      <td>546.565749</td>\n",
              "    </tr>\n",
              "    <tr>\n",
              "      <th>697</th>\n",
              "      <td>India</td>\n",
              "      <td>1957</td>\n",
              "      <td>409000000</td>\n",
              "      <td>Asia</td>\n",
              "      <td>40.249</td>\n",
              "      <td>590.061996</td>\n",
              "    </tr>\n",
              "    <tr>\n",
              "      <th>698</th>\n",
              "      <td>India</td>\n",
              "      <td>1962</td>\n",
              "      <td>454000000</td>\n",
              "      <td>Asia</td>\n",
              "      <td>43.605</td>\n",
              "      <td>658.347151</td>\n",
              "    </tr>\n",
              "    <tr>\n",
              "      <th>699</th>\n",
              "      <td>India</td>\n",
              "      <td>1967</td>\n",
              "      <td>506000000</td>\n",
              "      <td>Asia</td>\n",
              "      <td>47.193</td>\n",
              "      <td>700.770611</td>\n",
              "    </tr>\n",
              "    <tr>\n",
              "      <th>700</th>\n",
              "      <td>India</td>\n",
              "      <td>1972</td>\n",
              "      <td>567000000</td>\n",
              "      <td>Asia</td>\n",
              "      <td>50.651</td>\n",
              "      <td>724.032527</td>\n",
              "    </tr>\n",
              "  </tbody>\n",
              "</table>\n",
              "</div>"
            ],
            "text/plain": [
              "    country  year  population continent  life_exp     gdp_cap\n",
              "696   India  1952   372000000      Asia    37.373  546.565749\n",
              "697   India  1957   409000000      Asia    40.249  590.061996\n",
              "698   India  1962   454000000      Asia    43.605  658.347151\n",
              "699   India  1967   506000000      Asia    47.193  700.770611\n",
              "700   India  1972   567000000      Asia    50.651  724.032527"
            ]
          },
          "execution_count": 26,
          "metadata": {},
          "output_type": "execute_result"
        }
      ],
      "source": [
        "# Exploring new variable\n",
        "Gapminder_India.head()"
      ]
    },
    {
      "cell_type": "code",
      "execution_count": null,
      "metadata": {
        "colab": {
          "base_uri": "https://localhost:8080/",
          "height": 351
        },
        "id": "WHgTHVd_jpsD",
        "outputId": "8de1e4ca-8d77-4321-9a20-b8194125cb2f"
      },
      "outputs": [
        {
          "data": {
            "text/plain": [
              "<matplotlib.axes._subplots.AxesSubplot at 0x7f36f7121c10>"
            ]
          },
          "execution_count": 27,
          "metadata": {},
          "output_type": "execute_result"
        },
        {
          "data": {
            "image/png": "[encoded data removed]",
            "text/plain": [
              "<Figure size 720x360 with 1 Axes>"
            ]
          },
          "metadata": {},
          "output_type": "display_data"
        }
      ],
      "source": [
        "# Creating line plot to see the trend in life expectency\n",
        "plt.figure(figsize = (10,5))\n",
        "sns.lineplot(x = 'year', y = 'life_exp',data = Gapminder_India)"
      ]
    },
    {
      "cell_type": "markdown",
      "metadata": {
        "id": "HZvvJOzhdHqk"
      },
      "source": [
        "## **Q12: What is the trend of GDP per capita in India from 1952 - 2007?**"
      ]
    },
    {
      "cell_type": "code",
      "execution_count": null,
      "metadata": {
        "colab": {
          "base_uri": "https://localhost:8080/",
          "height": 351
        },
        "id": "HIw5ZLlcjxwP",
        "outputId": "9b2f201b-a3d2-40e0-c4f6-e2a737badaa6"
      },
      "outputs": [
        {
          "data": {
            "text/plain": [
              "<matplotlib.axes._subplots.AxesSubplot at 0x7f3701961b10>"
            ]
          },
          "execution_count": 28,
          "metadata": {},
          "output_type": "execute_result"
        },
        {
          "data": {
            "image/png": "[encoded data removed]",
            "text/plain": [
              "<Figure size 720x360 with 1 Axes>"
            ]
          },
          "metadata": {},
          "output_type": "display_data"
        }
      ],
      "source": [
        "plt.figure(figsize = (10,5))\n",
        "sns.lineplot(x = 'year', y = 'gdp_cap',data = Gapminder_India)"
      ]
    },
    {
      "cell_type": "markdown",
      "metadata": {
        "id": "3Z-B4GIhdLIc"
      },
      "source": [
        "## **Q13: What is the median age of each continent by year?**"
      ]
    },
    {
      "cell_type": "code",
      "execution_count": null,
      "metadata": {
        "colab": {
          "base_uri": "https://localhost:8080/"
        },
        "id": "qo9N35JRmNiY",
        "outputId": "84c03790-c390-4829-d8bf-c10e98225ee1"
      },
      "outputs": [
        {
          "data": {
            "text/plain": [
              "year  continent\n",
              "1952  Africa       38.8330\n",
              "      Americas     54.7450\n",
              "      Asia         44.8690\n",
              "      Europe       65.9000\n",
              "      Oceania      69.2550\n",
              "1957  Africa       40.5925\n",
              "      Americas     56.0740\n",
              "      Asia         48.2840\n",
              "      Europe       67.6500\n",
              "      Oceania      70.2950\n",
              "1962  Africa       42.6305\n",
              "      Americas     58.2990\n",
              "      Asia         49.3250\n",
              "      Europe       69.5250\n",
              "      Oceania      71.0850\n",
              "1967  Africa       44.6985\n",
              "      Americas     60.5230\n",
              "      Asia         53.6550\n",
              "      Europe       70.6100\n",
              "      Oceania      71.3100\n",
              "1972  Africa       47.0315\n",
              "      Americas     63.4410\n",
              "      Asia         56.9500\n",
              "      Europe       70.8850\n",
              "      Oceania      71.9100\n",
              "1977  Africa       49.2725\n",
              "      Americas     66.3530\n",
              "      Asia         60.7650\n",
              "      Europe       72.3350\n",
              "      Oceania      72.8550\n",
              "1982  Africa       50.7560\n",
              "      Americas     67.4050\n",
              "      Asia         63.7390\n",
              "      Europe       73.4900\n",
              "      Oceania      74.2900\n",
              "1987  Africa       51.6395\n",
              "      Americas     69.4980\n",
              "      Asia         66.2950\n",
              "      Europe       74.8150\n",
              "      Oceania      75.3200\n",
              "1992  Africa       52.4290\n",
              "      Americas     69.8620\n",
              "      Asia         68.6900\n",
              "      Europe       75.4510\n",
              "      Oceania      76.9450\n",
              "1997  Africa       52.7590\n",
              "      Americas     72.1460\n",
              "      Asia         70.2650\n",
              "      Europe       76.1160\n",
              "      Oceania      78.1900\n",
              "2002  Africa       51.2355\n",
              "      Americas     72.0470\n",
              "      Asia         71.0280\n",
              "      Europe       77.5365\n",
              "      Oceania      79.7400\n",
              "2007  Africa       52.9265\n",
              "      Americas     72.8990\n",
              "      Asia         72.3960\n",
              "      Europe       78.6085\n",
              "      Oceania      80.7195\n",
              "Name: life_exp, dtype: float64"
            ]
          },
          "execution_count": 29,
          "metadata": {},
          "output_type": "execute_result"
        }
      ],
      "source": [
        "Gapminder_gb_year_cont = Gapminder.groupby(['year', 'continent'])['life_exp'].median()\n",
        "Gapminder_gb_year_cont"
      ]
    },
    {
      "cell_type": "markdown",
      "metadata": {
        "id": "mW3u_ywddogX"
      },
      "source": [
        "Median value of each continent by year is provided in above mentioned table."
      ]
    },
    {
      "cell_type": "code",
      "execution_count": null,
      "metadata": {
        "id": "BJziozHEqTTG"
      },
      "outputs": [],
      "source": []
    }
  ],
  "metadata": {
    "colab": {
      "name": "gapminder_project.ipynb",
      "provenance": []
    },
    "kernelspec": {
      "display_name": "Python 3 (ipykernel)",
      "language": "python",
      "name": "python3"
    },
    "language_info": {
      "codemirror_mode": {
        "name": "ipython",
        "version": 3
      },
      "file_extension": ".py",
      "mimetype": "text/x-python",
      "name": "python",
      "nbconvert_exporter": "python",
      "pygments_lexer": "ipython3",
      "version": "3.9.7"
    }
  },
  "nbformat": 4,
  "nbformat_minor": 0
}