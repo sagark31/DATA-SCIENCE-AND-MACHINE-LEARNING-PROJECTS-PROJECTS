{
  "nbformat": 4,
  "nbformat_minor": 0,
  "metadata": {
    "colab": {
      "name": "olympics_capstone_pyspark.ipynb",
      "provenance": [],
      "collapsed_sections": []
    },
    "kernelspec": {
      "name": "python3",
      "display_name": "Python 3"
    },
    "language_info": {
      "name": "python"
    }
  },
  "cells": [
    {
      "cell_type": "markdown",
      "source": [
        "# **INTRODUCTION**\n",
        "\n",
        "\n",
        "\n",
        "\n",
        "\n"
      ],
      "metadata": {
        "id": "m-qkWR_gzvLo"
      }
    },
    {
      "cell_type": "markdown",
      "source": [
        "This Olympics dataset consists of different major athletic event in which thousands of competitors from all over the world compete in a range of events. Different Nations from all over the world compete and hence contains a lot of data. Using different Data Science and Machine Learning techniques which will be beneficial for different countries different players in their growth.\n",
        "\n",
        "The following dataset contains information about olympic events that occurred between 2000 and 2012.\n",
        "\n",
        "The dataset has a total of ten features. There are 8618 observations.\n",
        "\n",
        "Players' names, ages, countries, medal types, and total medals earned are all included in the data collection.\n",
        "The dataset also assume Madel won in group sports also as individual Medal for each player.\n",
        "\n",
        "A single player can play many games.\n",
        "\n",
        "Year - The year in which a certain olympic event took place.\n",
        "\n",
        "Date Given - The date on which a sporting event will take place.\n",
        "\n",
        "Same player can compete in a number of Olympic events."
      ],
      "metadata": {
        "id": "4chSIQZDL9JD"
      }
    },
    {
      "cell_type": "markdown",
      "source": [
        "# **AIM**"
      ],
      "metadata": {
        "id": "U2zAeIGjowi8"
      }
    },
    {
      "cell_type": "markdown",
      "source": [
        "Aim of this project is to perform different pyspark techniques on this dataset\n",
        "such as basic sorting grouping and filtering the data according to different features."
      ],
      "metadata": {
        "id": "kdFYh5lYoxPR"
      }
    },
    {
      "cell_type": "code",
      "source": [
        "pip install pyspark"
      ],
      "metadata": {
        "colab": {
          "base_uri": "https://localhost:8080/"
        },
        "id": "33tgLoKx0IJb",
        "outputId": "6a126aa1-349f-4058-d2b9-6d73425bb8e8"
      },
      "execution_count": null,
      "outputs": [
        {
          "output_type": "stream",
          "name": "stdout",
          "text": [
            "Looking in indexes: https://pypi.org/simple, https://us-python.pkg.dev/colab-wheels/public/simple/\n",
            "Collecting pyspark\n",
            "  Downloading pyspark-3.3.0.tar.gz (281.3 MB)\n",
            "\u001b[K     |████████████████████████████████| 281.3 MB 55 kB/s \n",
            "\u001b[?25hCollecting py4j==0.10.9.5\n",
            "  Downloading py4j-0.10.9.5-py2.py3-none-any.whl (199 kB)\n",
            "\u001b[K     |████████████████████████████████| 199 kB 94.1 MB/s \n",
            "\u001b[?25hBuilding wheels for collected packages: pyspark\n",
            "  Building wheel for pyspark (setup.py) ... \u001b[?25l\u001b[?25hdone\n",
            "  Created wheel for pyspark: filename=pyspark-3.3.0-py2.py3-none-any.whl size=281764026 sha256=7ea536d6f2fe1d98b1c6a04bb921f7d71eb1725e374bc790f678e1c75c073022\n",
            "  Stored in directory: /root/.cache/pip/wheels/7a/8e/1b/f73a52650d2e5f337708d9f6a1750d451a7349a867f928b885\n",
            "Successfully built pyspark\n",
            "Installing collected packages: py4j, pyspark\n",
            "Successfully installed py4j-0.10.9.5 pyspark-3.3.0\n"
          ]
        }
      ]
    },
    {
      "cell_type": "code",
      "source": [
        "\n",
        "#Initializing PySpark\n",
        "from pyspark import SparkContext, SparkConf\n",
        "from pyspark.sql import SparkSession\n",
        "from pyspark.sql import SQLContext\n",
        "\n",
        "#Spark Config\n",
        "conf = SparkConf().setAppName(\"sample_app\")\n",
        "sc = SparkContext(conf=conf)\n",
        "\n",
        "sqlContext = SQLContext(sc)"
      ],
      "metadata": {
        "colab": {
          "base_uri": "https://localhost:8080/"
        },
        "id": "qhn_2y-p0JW-",
        "outputId": "71781f6e-6518-43f0-ae77-f35e0d059d39"
      },
      "execution_count": null,
      "outputs": [
        {
          "output_type": "stream",
          "name": "stderr",
          "text": [
            "/usr/local/lib/python3.7/dist-packages/pyspark/sql/context.py:114: FutureWarning: Deprecated in 3.0.0. Use SparkSession.builder.getOrCreate() instead.\n",
            "  FutureWarning,\n"
          ]
        }
      ]
    },
    {
      "cell_type": "code",
      "source": [
        "from pyspark.sql import SparkSession\n",
        "\n",
        "spark = (SparkSession\n",
        "  .builder\n",
        "  .appName(\"data\")\n",
        "  .getOrCreate())\n",
        "\n",
        "# Path to data set\n",
        "csv_file = \"/content/olympix_data_organized_with_header (1) (1) (1).csv\"\n",
        "# Read and create a temporary view\n",
        "# Infer schema (note that for larger files you \n",
        "# may want to specify the schema)\n",
        "data = (spark.read.format(\"csv\")\n",
        "  .option(\"inferSchema\", \"true\")\n",
        "  .option(\"header\", \"true\")\n",
        "  .load(csv_file))\n",
        "data.createOrReplaceTempView(\"data\")"
      ],
      "metadata": {
        "id": "ptGetzRA4GIA"
      },
      "execution_count": null,
      "outputs": []
    },
    {
      "cell_type": "code",
      "source": [
        "# Create the DataFrame \n",
        "data = spark.table('data')\n",
        "\n",
        "# Show the head\n",
        "data.show()\n"
      ],
      "metadata": {
        "colab": {
          "base_uri": "https://localhost:8080/"
        },
        "id": "nKamdWSM0JQ8",
        "outputId": "eedd76e3-26de-4a49-8366-2de1209c987b"
      },
      "execution_count": null,
      "outputs": [
        {
          "output_type": "stream",
          "name": "stdout",
          "text": [
            "+--------------------+---+-------------+----+----------+--------------------+----------+------------+-----------+-----------+\n",
            "|                name|age|      country|year|Date_Given|              sports|gold_medal|silver_medal|brone_medal|total_medal|\n",
            "+--------------------+---+-------------+----+----------+--------------------+----------+------------+-----------+-----------+\n",
            "|      Michael Phelps| 23|United States|2008| 8/24/2008|            Swimming|         8|           0|          0|          8|\n",
            "|      Michael Phelps| 19|United States|2004| 8/29/2004|            Swimming|         6|           0|          2|          8|\n",
            "|      Michael Phelps| 27|United States|2012|08-12-2012|            Swimming|         4|           2|          0|          6|\n",
            "|    Natalie Coughlin| 25|United States|2008| 8/24/2008|            Swimming|         1|           2|          3|          6|\n",
            "|       Aleksey Nemov| 24|       Russia|2000|10-01-2000|          Gymnastics|         2|           1|          3|          6|\n",
            "|       Alicia Coutts| 24|    Australia|2012|08-12-2012|            Swimming|         1|           3|          1|          5|\n",
            "|      Missy Franklin| 17|United States|2012|08-12-2012|            Swimming|         4|           0|          1|          5|\n",
            "|         Ryan Lochte| 27|United States|2012|08-12-2012|            Swimming|         2|           2|          1|          5|\n",
            "|     Allison Schmitt| 22|United States|2012|08-12-2012|            Swimming|         3|           1|          1|          5|\n",
            "|    Natalie Coughlin| 21|United States|2004| 8/29/2004|            Swimming|         2|           2|          1|          5|\n",
            "|          Ian Thorpe| 17|    Australia|2000|10-01-2000|            Swimming|         3|           2|          0|          5|\n",
            "|         Dara Torres| 33|United States|2000|10-01-2000|            Swimming|         2|           0|          3|          5|\n",
            "|       Cindy Klassen| 26|       Canada|2006| 2/26/2006|       Speed Skating|         1|           2|          2|          5|\n",
            "|       Nastia Liukin| 18|United States|2008| 8/24/2008|          Gymnastics|         1|           3|          1|          5|\n",
            "|       Marit Bjørgen| 29|       Norway|2010| 2/28/2010|Cross Country Skiing|         3|           1|          1|          5|\n",
            "|            Sun Yang| 20|        China|2012|08-12-2012|            Swimming|         2|           1|          1|          4|\n",
            "|     Kirsty Coventry| 24|     Zimbabwe|2008| 8/24/2008|            Swimming|         1|           3|          0|          4|\n",
            "|Libby Lenton-Tric...| 23|    Australia|2008| 8/24/2008|            Swimming|         2|           1|          1|          4|\n",
            "|         Ryan Lochte| 24|United States|2008| 8/24/2008|            Swimming|         2|           0|          2|          4|\n",
            "|      Inge de Bruijn| 30|  Netherlands|2004| 8/29/2004|            Swimming|         1|           1|          2|          4|\n",
            "+--------------------+---+-------------+----+----------+--------------------+----------+------------+-----------+-----------+\n",
            "only showing top 20 rows\n",
            "\n"
          ]
        }
      ]
    },
    {
      "cell_type": "code",
      "source": [
        "data.printSchema()"
      ],
      "metadata": {
        "colab": {
          "base_uri": "https://localhost:8080/"
        },
        "id": "7A2x-tpJ0JNo",
        "outputId": "e4ae5386-72c4-4402-b1ca-0c5a17790ab8"
      },
      "execution_count": null,
      "outputs": [
        {
          "output_type": "stream",
          "name": "stdout",
          "text": [
            "root\n",
            " |-- name: string (nullable = true)\n",
            " |-- age: integer (nullable = true)\n",
            " |-- country: string (nullable = true)\n",
            " |-- year: integer (nullable = true)\n",
            " |-- Date_Given: string (nullable = true)\n",
            " |-- sports: string (nullable = true)\n",
            " |-- gold_medal: integer (nullable = true)\n",
            " |-- silver_medal: integer (nullable = true)\n",
            " |-- brone_medal: integer (nullable = true)\n",
            " |-- total_medal: integer (nullable = true)\n",
            "\n"
          ]
        }
      ]
    },
    {
      "cell_type": "code",
      "source": [
        "from pyspark.sql.functions import col,isnan, when, count\n",
        "data.select([count(when(isnan(c) | col(c).isNull(), c)).alias(c) for c in data.columns]\n",
        "   ).show()\n"
      ],
      "metadata": {
        "colab": {
          "base_uri": "https://localhost:8080/"
        },
        "id": "p1aLII01CO58",
        "outputId": "2cce9c28-762f-46a2-cdd4-e33f53508469"
      },
      "execution_count": null,
      "outputs": [
        {
          "output_type": "stream",
          "name": "stdout",
          "text": [
            "+----+---+-------+----+----------+------+----------+------------+-----------+-----------+\n",
            "|name|age|country|year|Date_Given|sports|gold_medal|silver_medal|brone_medal|total_medal|\n",
            "+----+---+-------+----+----------+------+----------+------------+-----------+-----------+\n",
            "|   5|  5|      0|   0|         0|     0|         0|           0|          0|          0|\n",
            "+----+---+-------+----+----------+------+----------+------------+-----------+-----------+\n",
            "\n"
          ]
        }
      ]
    },
    {
      "cell_type": "code",
      "source": [
        "data=data.na.drop(subset=[\"name\",\"age\"])"
      ],
      "metadata": {
        "id": "4rUL3OR7COyx"
      },
      "execution_count": null,
      "outputs": []
    },
    {
      "cell_type": "code",
      "source": [
        "res1=data.toPandas().info()"
      ],
      "metadata": {
        "colab": {
          "base_uri": "https://localhost:8080/"
        },
        "id": "N14d9S_WDm47",
        "outputId": "d5ef5072-b8ca-47a0-d3a2-ce62a08681de"
      },
      "execution_count": null,
      "outputs": [
        {
          "output_type": "stream",
          "name": "stdout",
          "text": [
            "<class 'pandas.core.frame.DataFrame'>\n",
            "RangeIndex: 8613 entries, 0 to 8612\n",
            "Data columns (total 10 columns):\n",
            " #   Column        Non-Null Count  Dtype \n",
            "---  ------        --------------  ----- \n",
            " 0   name          8613 non-null   object\n",
            " 1   age           8613 non-null   int32 \n",
            " 2   country       8613 non-null   object\n",
            " 3   year          8613 non-null   int32 \n",
            " 4   Date_Given    8613 non-null   object\n",
            " 5   sports        8613 non-null   object\n",
            " 6   gold_medal    8613 non-null   int32 \n",
            " 7   silver_medal  8613 non-null   int32 \n",
            " 8   brone_medal   8613 non-null   int32 \n",
            " 9   total_medal   8613 non-null   int32 \n",
            "dtypes: int32(6), object(4)\n",
            "memory usage: 471.1+ KB\n"
          ]
        }
      ]
    },
    {
      "cell_type": "code",
      "source": [
        "\n",
        "data.exceptAll(data.dropDuplicates([\"name\",\"age\",\"country\",\"year\",\"Date_Given\",\"sports\",\"gold_medal\",\"silver_medal\",\"brone_medal\",\"total_medal\"]))"
      ],
      "metadata": {
        "colab": {
          "base_uri": "https://localhost:8080/"
        },
        "id": "DsYfTJINFl5N",
        "outputId": "ea5ea6f0-5b3e-4183-bf83-166e8838308f"
      },
      "execution_count": null,
      "outputs": [
        {
          "output_type": "execute_result",
          "data": {
            "text/plain": [
              "DataFrame[name: string, age: int, country: string, year: int, Date_Given: string, sports: string, gold_medal: int, silver_medal: int, brone_medal: int, total_medal: int]"
            ]
          },
          "metadata": {},
          "execution_count": 33
        }
      ]
    },
    {
      "cell_type": "markdown",
      "source": [
        "## **The Olympic Sports/games in the dataset.**"
      ],
      "metadata": {
        "id": "sDWxG7anGsg9"
      }
    },
    {
      "cell_type": "code",
      "source": [
        "\n",
        "sp=data.select('sports').distinct()\n",
        "\n",
        "sp.show(49)"
      ],
      "metadata": {
        "colab": {
          "base_uri": "https://localhost:8080/"
        },
        "id": "wgINGTMw0JKq",
        "outputId": "0a5f5b9c-8b5d-41b1-d7e5-fb35c6c6a568"
      },
      "execution_count": null,
      "outputs": [
        {
          "output_type": "stream",
          "name": "stdout",
          "text": [
            "+--------------------+\n",
            "|              sports|\n",
            "+--------------------+\n",
            "|          Gymnastics|\n",
            "|              Tennis|\n",
            "|              Boxing|\n",
            "|Short-Track Speed...|\n",
            "|          Ice Hockey|\n",
            "|              Rowing|\n",
            "|                Judo|\n",
            "|            Softball|\n",
            "|             Sailing|\n",
            "|            Swimming|\n",
            "|       Alpine Skiing|\n",
            "|          Basketball|\n",
            "|            Handball|\n",
            "| Rhythmic Gymnastics|\n",
            "|            Biathlon|\n",
            "|           Triathlon|\n",
            "|           Badminton|\n",
            "|           Athletics|\n",
            "|      Figure Skating|\n",
            "|    Beach Volleyball|\n",
            "|          Equestrian|\n",
            "|            Shooting|\n",
            "|              Diving|\n",
            "|            Skeleton|\n",
            "|         Ski Jumping|\n",
            "|     Nordic Combined|\n",
            "|           Wrestling|\n",
            "|       Speed Skating|\n",
            "|        Table Tennis|\n",
            "|           Taekwondo|\n",
            "|            Canoeing|\n",
            "|       Weightlifting|\n",
            "|           Waterpolo|\n",
            "|            Baseball|\n",
            "|   Modern Pentathlon|\n",
            "|        Snowboarding|\n",
            "|           Bobsleigh|\n",
            "|             Cycling|\n",
            "|Cross Country Skiing|\n",
            "|          Volleyball|\n",
            "|             Archery|\n",
            "|Synchronized Swim...|\n",
            "|             Curling|\n",
            "|             Fencing|\n",
            "|              Hockey|\n",
            "|    Freestyle Skiing|\n",
            "|            Football|\n",
            "|                Luge|\n",
            "|          Trampoline|\n",
            "+--------------------+\n",
            "\n"
          ]
        }
      ]
    },
    {
      "cell_type": "markdown",
      "source": [
        "## **The total number of medals in each Olympic Sport/game**"
      ],
      "metadata": {
        "id": "If0MCa0vG52w"
      }
    },
    {
      "cell_type": "code",
      "source": [
        "#importing pyspark sql function\n",
        "from pyspark.sql.functions import sum, col, desc, asc, count\n",
        "# groupby sports than performing aggregate function on total medals and than arranging in descending order\n",
        "\n",
        "grp=data.groupBy(\"sports\").agg(sum(\"total_medal\").alias(\"Total\")).sort(desc(\"Total\"))\n",
        "grp.show()"
      ],
      "metadata": {
        "id": "K1G21WaH0JG-",
        "colab": {
          "base_uri": "https://localhost:8080/"
        },
        "outputId": "8aca1e19-ef10-4de8-dac6-9783e17630e1"
      },
      "execution_count": null,
      "outputs": [
        {
          "output_type": "stream",
          "name": "stdout",
          "text": [
            "+----------+-----+\n",
            "|    sports|Total|\n",
            "+----------+-----+\n",
            "|  Swimming|  765|\n",
            "| Athletics|  753|\n",
            "|    Rowing|  576|\n",
            "|  Football|  407|\n",
            "|    Hockey|  386|\n",
            "|Ice Hockey|  384|\n",
            "|  Handball|  351|\n",
            "|  Canoeing|  333|\n",
            "| Waterpolo|  306|\n",
            "|   Cycling|  306|\n",
            "|Basketball|  287|\n",
            "|Gymnastics|  282|\n",
            "|Volleyball|  278|\n",
            "|   Fencing|  256|\n",
            "| Wrestling|  245|\n",
            "|      Judo|  224|\n",
            "|  Baseball|  216|\n",
            "|   Sailing|  210|\n",
            "|  Shooting|  192|\n",
            "|    Boxing|  188|\n",
            "+----------+-----+\n",
            "only showing top 20 rows\n",
            "\n"
          ]
        }
      ]
    },
    {
      "cell_type": "markdown",
      "source": [
        "## **The total number of medals won by each country in swimming.**"
      ],
      "metadata": {
        "id": "65-mwK3nJ4xz"
      }
    },
    {
      "cell_type": "code",
      "source": [
        "#groupby sports and country and than aggeregation\n",
        "new=data.groupby('sports','country').agg(sum(\"total_medal\").alias(\"Total\")).sort(desc(\"Total\"))"
      ],
      "metadata": {
        "id": "ZhkktJV40JD6"
      },
      "execution_count": null,
      "outputs": []
    },
    {
      "cell_type": "code",
      "source": [
        "#filter datafram based upon swimming \n",
        "new.filter(new['sports']=='Swimming').show()\n"
      ],
      "metadata": {
        "id": "BMrHWMPK0JAs",
        "colab": {
          "base_uri": "https://localhost:8080/"
        },
        "outputId": "989e7c16-8196-4e01-ae9d-5f93f461b663"
      },
      "execution_count": null,
      "outputs": [
        {
          "output_type": "stream",
          "name": "stdout",
          "text": [
            "+--------+-------------+-----+\n",
            "|  sports|      country|Total|\n",
            "+--------+-------------+-----+\n",
            "|Swimming|United States|  267|\n",
            "|Swimming|    Australia|  163|\n",
            "|Swimming|  Netherlands|   46|\n",
            "|Swimming|        Japan|   43|\n",
            "|Swimming|       France|   39|\n",
            "|Swimming|        China|   35|\n",
            "|Swimming|      Germany|   32|\n",
            "|Swimming|       Russia|   20|\n",
            "|Swimming|        Italy|   16|\n",
            "|Swimming| South Africa|   11|\n",
            "|Swimming|Great Britain|   11|\n",
            "|Swimming|      Hungary|    9|\n",
            "|Swimming|       Sweden|    9|\n",
            "|Swimming|       Brazil|    8|\n",
            "|Swimming|     Zimbabwe|    7|\n",
            "|Swimming|      Ukraine|    7|\n",
            "|Swimming|      Romania|    6|\n",
            "|Swimming|       Canada|    5|\n",
            "|Swimming|  South Korea|    4|\n",
            "|Swimming|        Spain|    3|\n",
            "+--------+-------------+-----+\n",
            "only showing top 20 rows\n",
            "\n"
          ]
        }
      ]
    },
    {
      "cell_type": "markdown",
      "source": [
        "## **The total number of medals won by each country in Skeleton.**"
      ],
      "metadata": {
        "id": "Pwu5XJ78KeGT"
      }
    },
    {
      "cell_type": "code",
      "source": [
        "#filter datafram based upon skeleton\n",
        "new.filter(new['sports']=='Skeleton').show()"
      ],
      "metadata": {
        "id": "7yH6MolP0Ijc",
        "colab": {
          "base_uri": "https://localhost:8080/"
        },
        "outputId": "a45017cc-1bdf-422a-81c8-bf457e806a6d"
      },
      "execution_count": null,
      "outputs": [
        {
          "output_type": "stream",
          "name": "stdout",
          "text": [
            "+--------+-------------+-----+\n",
            "|  sports|      country|Total|\n",
            "+--------+-------------+-----+\n",
            "|Skeleton|       Canada|    4|\n",
            "|Skeleton|United States|    3|\n",
            "|Skeleton|  Switzerland|    3|\n",
            "|Skeleton|Great Britain|    3|\n",
            "|Skeleton|      Germany|    2|\n",
            "|Skeleton|      Austria|    1|\n",
            "|Skeleton|       Latvia|    1|\n",
            "|Skeleton|       Russia|    1|\n",
            "+--------+-------------+-----+\n",
            "\n"
          ]
        }
      ]
    },
    {
      "cell_type": "markdown",
      "source": [
        "## **The number of medals that the US won yearly.**"
      ],
      "metadata": {
        "id": "WT8sen8PKvQg"
      }
    },
    {
      "cell_type": "code",
      "source": [
        "data.filter(data['country']=='United States').groupby('year','country').agg(sum(\"total_medal\").alias(\"Total\")).sort(desc(\"year\")).show()"
      ],
      "metadata": {
        "colab": {
          "base_uri": "https://localhost:8080/"
        },
        "id": "S5zLyMw0LLD9",
        "outputId": "f4f5e127-bb0a-4024-a767-57a6450a56c4"
      },
      "execution_count": null,
      "outputs": [
        {
          "output_type": "stream",
          "name": "stdout",
          "text": [
            "+----+-------------+-----+\n",
            "|year|      country|Total|\n",
            "+----+-------------+-----+\n",
            "|2012|United States|  254|\n",
            "|2010|United States|   97|\n",
            "|2008|United States|  317|\n",
            "|2006|United States|   52|\n",
            "|2004|United States|  265|\n",
            "|2002|United States|   84|\n",
            "|2000|United States|  243|\n",
            "+----+-------------+-----+\n",
            "\n"
          ]
        }
      ]
    },
    {
      "cell_type": "markdown",
      "source": [
        "## **The total number of medals won by each country.**"
      ],
      "metadata": {
        "id": "gRHMzGH3KxsM"
      }
    },
    {
      "cell_type": "code",
      "source": [
        "# group by operation on country and aggeregation on total medals\n",
        "data.groupby('country').agg(sum(\"total_medal\").alias(\"Total\")).sort(desc(\"Total\")).show()"
      ],
      "metadata": {
        "colab": {
          "base_uri": "https://localhost:8080/"
        },
        "id": "1rWzd56NLKZl",
        "outputId": "8cbef704-e971-44cf-c81d-104cfaa55519"
      },
      "execution_count": null,
      "outputs": [
        {
          "output_type": "stream",
          "name": "stdout",
          "text": [
            "+-------------+-----+\n",
            "|      country|Total|\n",
            "+-------------+-----+\n",
            "|United States| 1312|\n",
            "|       Russia|  768|\n",
            "|      Germany|  629|\n",
            "|    Australia|  609|\n",
            "|        China|  530|\n",
            "|       Canada|  370|\n",
            "|        Italy|  331|\n",
            "|Great Britain|  322|\n",
            "|       France|  318|\n",
            "|  Netherlands|  318|\n",
            "|  South Korea|  308|\n",
            "|        Japan|  282|\n",
            "|       Brazil|  218|\n",
            "|        Spain|  205|\n",
            "|       Norway|  192|\n",
            "|         Cuba|  188|\n",
            "|       Sweden|  181|\n",
            "|      Hungary|  145|\n",
            "|      Ukraine|  143|\n",
            "|    Argentina|  139|\n",
            "+-------------+-----+\n",
            "only showing top 20 rows\n",
            "\n"
          ]
        }
      ]
    },
    {
      "cell_type": "markdown",
      "source": [
        "## **The oldest athlete in the olympics and the Country which he/she was from**"
      ],
      "metadata": {
        "id": "ykCxtAx1Kxlz"
      }
    },
    {
      "cell_type": "code",
      "source": [
        "# group by country , player name and age , after it max age and sort it by age\n",
        "df=data.groupby('name','country','age').max('age').sort(desc(\"max(age)\")).limit(1)\n",
        "df.select('name','country','age').show()"
      ],
      "metadata": {
        "colab": {
          "base_uri": "https://localhost:8080/"
        },
        "id": "M0DRbAkULL7q",
        "outputId": "9bb3c7ee-d15d-4aea-88cf-2db75073e3a3"
      },
      "execution_count": null,
      "outputs": [
        {
          "output_type": "stream",
          "name": "stdout",
          "text": [
            "+----------+-------+---+\n",
            "|      name|country|age|\n",
            "+----------+-------+---+\n",
            "|Ian Millar| Canada| 61|\n",
            "+----------+-------+---+\n",
            "\n"
          ]
        }
      ]
    },
    {
      "cell_type": "markdown",
      "source": [
        "# **CONCLUSION**"
      ],
      "metadata": {
        "id": "2tNtc39mpfGn"
      }
    },
    {
      "cell_type": "markdown",
      "source": [
        "\n",
        "\n",
        "1.  The oldest athlete in the olympics is IAN MILLAR from canada .\n",
        "2.  The total no of medal won by any country is highest in United States with 1312 total medal and the country Argentina has the lowest no of total medals amongst all i.e 139 medals.\n",
        "3. The highest no of medals won in swimming category is by United States with 267 medal and the lowest is won by spain with 3 medals.\n",
        "4. The highest no of medal won is in swimming category and the no is 765 and the lowest no of medal won is i boxing with 188 medal \n",
        "\n"
      ],
      "metadata": {
        "id": "FryMtTufpiTR"
      }
    }
  ]
}